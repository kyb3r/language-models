{
 "cells": [
  {
   "cell_type": "code",
   "execution_count": 31,
   "metadata": {},
   "outputs": [],
   "source": [
    "import torch\n",
    "\n",
    "with open(\"data/names.txt\") as f:\n",
    "    words = f.read().splitlines()\n",
    "\n",
    "chars = [\".\"] + sorted(list(set(''.join(words))))\n",
    "\n",
    "str_to_int = {s: i for i, s in enumerate(chars)}\n",
    "int_to_str = {i: s for s, i in str_to_int.items()}\n"
   ]
  },
  {
   "cell_type": "code",
   "execution_count": 32,
   "metadata": {},
   "outputs": [],
   "source": [
    "bigram_table = N = torch.zeros((27, 27), dtype=torch.int32)"
   ]
  },
  {
   "cell_type": "code",
   "execution_count": 33,
   "metadata": {},
   "outputs": [],
   "source": [
    "for word in words:\n",
    "    characters = [\".\"] + list(word) + [\".\"]\n",
    "    for c, n in zip(characters, characters[1:]):\n",
    "        index1 = str_to_int[c]\n",
    "        index2 = str_to_int[n]\n",
    "        \n",
    "        bigram_table[index1, index2] += 1"
   ]
  },
  {
   "cell_type": "code",
   "execution_count": 34,
   "metadata": {},
   "outputs": [],
   "source": [
    "import matplotlib.pyplot as plt"
   ]
  },
  {
   "cell_type": "code",
   "execution_count": 35,
   "metadata": {},
   "outputs": [
    {
     "data": {
      "text/plain": [
       "<matplotlib.image.AxesImage at 0x7f4b2aa47af0>"
      ]
     },
     "execution_count": 35,
     "metadata": {},
     "output_type": "execute_result"
    },
    {
     "data": {
      "image/png": "[encoded data removed]",
      "text/plain": [
       "<Figure size 640x480 with 1 Axes>"
      ]
     },
     "metadata": {},
     "output_type": "display_data"
    }
   ],
   "source": [
    "plt.imshow(bigram_table)"
   ]
  },
  {
   "cell_type": "code",
   "execution_count": 36,
   "metadata": {},
   "outputs": [],
   "source": [
    "p = N.float()\n",
    "p = p / p.sum(dim=1, keepdim=True)\n",
    "\n",
    "bigram_table = p # NOTE: now it is normalised as probabilities\n",
    "\n",
    "def generate_name_bigram():\n",
    "    output = \"\"\n",
    "    index = 0\n",
    "    while True:\n",
    "        probs = bigram_table[index]\n",
    "        index = torch.multinomial(probs, num_samples=1, replacement=True).item()\n",
    "        char = int_to_str[index]\n",
    "        output += char \n",
    "        if index == 0:\n",
    "            break \n",
    "    return output"
   ]
  },
  {
   "cell_type": "code",
   "execution_count": 37,
   "metadata": {},
   "outputs": [
    {
     "name": "stdout",
     "output_type": "stream",
     "text": [
      "anallanieerako.\n",
      "mani.\n",
      "hatahish.\n",
      "makaly.\n",
      "ainaolys.\n",
      "ilishorebrisyve.\n",
      "leru.\n",
      "jan.\n",
      "an.\n",
      "manesyn.\n"
     ]
    }
   ],
   "source": [
    "for x in range(10):\n",
    "    name = generate_name_bigram()\n",
    "    print(name)\n",
    "    "
   ]
  }
 ],
 "metadata": {
  "kernelspec": {
   "display_name": "dev",
   "language": "python",
   "name": "python3"
  },
  "language_info": {
   "codemirror_mode": {
    "name": "ipython",
    "version": 3
   },
   "file_extension": ".py",
   "mimetype": "text/x-python",
   "name": "python",
   "nbconvert_exporter": "python",
   "pygments_lexer": "ipython3",
   "version": "3.9.15"
  },
  "orig_nbformat": 4,
  "vscode": {
   "interpreter": {
    "hash": "c1f767b85a9ddfa74181083eaf2a0ca7790ab143097ab8c42db5e4f09d99ca78"
   }
  }
 },
 "nbformat": 4,
 "nbformat_minor": 2
}
