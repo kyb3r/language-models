{
 "cells": [
  {
   "cell_type": "code",
   "execution_count": 2,
   "metadata": {},
   "outputs": [
    {
     "name": "stderr",
     "output_type": "stream",
     "text": [
      "/home/worker/miniconda/envs/dev/lib/python3.9/site-packages/tqdm/auto.py:22: TqdmWarning: IProgress not found. Please update jupyter and ipywidgets. See https://ipywidgets.readthedocs.io/en/stable/user_install.html\n",
      "  from .autonotebook import tqdm as notebook_tqdm\n"
     ]
    }
   ],
   "source": [
    "import torch \n",
    "import matplotlib.pyplot as plt\n"
   ]
  },
  {
   "cell_type": "code",
   "execution_count": 3,
   "metadata": {},
   "outputs": [],
   "source": [
    "with open(\"data/names.txt\") as f:\n",
    "    words = f.read().splitlines()\n",
    "\n",
    "chars = [\".\"] + sorted(list(set(''.join(words))))\n",
    "vocab_size = len(chars) # 27 in this case\n",
    "\n",
    "str_to_int = {s: i for i, s in enumerate(chars)}\n",
    "int_to_str = {i: s for s, i in str_to_int.items()}\n"
   ]
  },
  {
   "cell_type": "code",
   "execution_count": 4,
   "metadata": {},
   "outputs": [
    {
     "name": "stdout",
     "output_type": "stream",
     "text": [
      "2\n",
      "torch.Size([228146, 10])\n",
      "torch.Size([228146])\n"
     ]
    }
   ],
   "source": [
    "# Generate padded dataset (padded with '.')\n",
    "context_length = 10\n",
    "\n",
    "X = []\n",
    "Y = []\n",
    "\n",
    "print(min(len(w) for w in words))\n",
    "\n",
    "for word in words:\n",
    "    context = [0] * context_length\n",
    "    for character in word + \".\":\n",
    "        token = str_to_int[character]\n",
    "        X.append(context)\n",
    "        Y.append(token)\n",
    "        context = context[1:] + [token]\n",
    "\n",
    "\n",
    "# for x, y in zip(X, Y):\n",
    "#     name = \"\".join(int_to_str[i] for i in x)\n",
    "#     y = int_to_str[y]\n",
    "#     print(name, '------>', y)\n",
    "\n",
    "\n",
    "X = torch.tensor(X)\n",
    "Y = torch.tensor(Y)\n",
    "print(X.shape)\n",
    "print(Y.shape)"
   ]
  },
  {
   "cell_type": "code",
   "execution_count": 5,
   "metadata": {},
   "outputs": [],
   "source": [
    "from torch.utils.data import TensorDataset, DataLoader, random_split\n",
    "\n",
    "dataset = TensorDataset(X, Y)\n",
    "train_ds, test_val_ds = random_split(dataset, [0.8, 0.2])\n",
    "val_ds, test_ds = random_split(test_val_ds, [0.5, 0.5])\n",
    "\n",
    "batch_size = 1024\n",
    "train_dl = DataLoader(train_ds, batch_size=batch_size, shuffle=True)\n",
    "val_dl = DataLoader(val_ds, batch_size=batch_size, shuffle=True)\n",
    "test_dl = DataLoader(test_ds, batch_size=batch_size, shuffle=True)"
   ]
  },
  {
   "cell_type": "code",
   "execution_count": null,
   "metadata": {},
   "outputs": [],
   "source": []
  },
  {
   "cell_type": "code",
   "execution_count": 6,
   "metadata": {},
   "outputs": [
    {
     "name": "stdout",
     "output_type": "stream",
     "text": [
      "Model(\n",
      "  (linear): Linear()\n",
      ")\n"
     ]
    }
   ],
   "source": [
    "from torch import nn\n",
    "import torch.nn.functional as F\n",
    "from tqdm import tqdm\n",
    "from test import Linear"
   ]
  },
  {
   "cell_type": "code",
   "execution_count": 7,
   "metadata": {},
   "outputs": [
    {
     "name": "stderr",
     "output_type": "stream",
     "text": [
      "100%|██████████| 179/179 [00:01<00:00, 91.01it/s] \n"
     ]
    },
    {
     "name": "stdout",
     "output_type": "stream",
     "text": [
      "Epoch --> 0\n",
      "train loss: 2.2570\n",
      "val loss: 2.1449\n",
      "\n"
     ]
    },
    {
     "name": "stderr",
     "output_type": "stream",
     "text": [
      "100%|██████████| 179/179 [00:01<00:00, 113.54it/s]\n"
     ]
    },
    {
     "name": "stdout",
     "output_type": "stream",
     "text": [
      "Epoch --> 1\n",
      "train loss: 2.0710\n",
      "val loss: 2.0609\n",
      "\n"
     ]
    },
    {
     "name": "stderr",
     "output_type": "stream",
     "text": [
      "100%|██████████| 179/179 [00:01<00:00, 115.64it/s]\n"
     ]
    },
    {
     "name": "stdout",
     "output_type": "stream",
     "text": [
      "Epoch --> 2\n",
      "train loss: 1.9960\n",
      "val loss: 2.0241\n",
      "\n"
     ]
    },
    {
     "name": "stderr",
     "output_type": "stream",
     "text": [
      "100%|██████████| 179/179 [00:01<00:00, 101.86it/s]\n"
     ]
    },
    {
     "name": "stdout",
     "output_type": "stream",
     "text": [
      "Epoch --> 3\n",
      "train loss: 1.9397\n",
      "val loss: 2.0008\n",
      "\n"
     ]
    },
    {
     "name": "stderr",
     "output_type": "stream",
     "text": [
      "100%|██████████| 179/179 [00:02<00:00, 87.43it/s]\n"
     ]
    },
    {
     "name": "stdout",
     "output_type": "stream",
     "text": [
      "Epoch --> 4\n",
      "train loss: 1.8939\n",
      "val loss: 1.9998\n",
      "\n"
     ]
    },
    {
     "name": "stderr",
     "output_type": "stream",
     "text": [
      "100%|██████████| 179/179 [00:02<00:00, 86.20it/s]\n"
     ]
    },
    {
     "name": "stdout",
     "output_type": "stream",
     "text": [
      "Epoch --> 5\n",
      "train loss: 1.8553\n",
      "val loss: 1.9897\n",
      "\n"
     ]
    },
    {
     "name": "stderr",
     "output_type": "stream",
     "text": [
      "100%|██████████| 179/179 [00:01<00:00, 100.71it/s]\n"
     ]
    },
    {
     "name": "stdout",
     "output_type": "stream",
     "text": [
      "Epoch --> 6\n",
      "train loss: 1.8205\n",
      "val loss: 1.9944\n",
      "\n"
     ]
    }
   ],
   "source": [
    "class NeuralNet(nn.Module):\n",
    "    def __init__(self, embedding_size=20):\n",
    "        super().__init__()\n",
    "        self.character_embeddings = nn.Embedding(vocab_size, embedding_size)\n",
    "        self.input_size = context_length * embedding_size\n",
    "        self.layers = nn.Sequential(\n",
    "            nn.Linear(self.input_size, 1000),\n",
    "            nn.BatchNorm1d(1000),\n",
    "            nn.LeakyReLU(),\n",
    "            nn.Linear(1000, 500),\n",
    "            nn.BatchNorm1d(500),\n",
    "            nn.LeakyReLU(),\n",
    "            nn.Linear(500, vocab_size)\n",
    "        )\n",
    "\n",
    "    def forward(self, x):\n",
    "        embeddings = self.character_embeddings(x)\n",
    "        inpt = embeddings.view(-1, self.input_size)\n",
    "        return self.layers(inpt)\n",
    "\n",
    "\n",
    "model = NeuralNet().cuda()\n",
    "optim = torch.optim.Adam(model.parameters(), lr=0.01)\n",
    "\n",
    "global_loss = []\n",
    "\n",
    "for epoch in range(7):\n",
    "\n",
    "    train_losses = []\n",
    "    val_losses = []\n",
    "\n",
    "    with tqdm(train_dl) as dataloader:\n",
    "        model.train()\n",
    "        for x, y in dataloader:\n",
    "            \n",
    "            x, y = x.cuda(), y.cuda()\n",
    "            logits = model(x)\n",
    "            loss = F.cross_entropy(logits, y)\n",
    "\n",
    "            train_losses.append(loss.item())\n",
    "\n",
    "            optim.zero_grad()\n",
    "            loss.backward()\n",
    "            optim.step()\n",
    "    \n",
    "    with torch.no_grad():\n",
    "        model.eval()\n",
    "        for x, y in val_dl:\n",
    "            x, y = x.cuda(), y.cuda()\n",
    "            logits = model(x)\n",
    "            loss = F.cross_entropy(logits, y)\n",
    "            val_losses.append(loss.item())\n",
    "        \n",
    "    av_train_loss = sum(train_losses)/len(train_losses)\n",
    "    av_val_loss = sum(val_losses)/len(val_losses)\n",
    "\n",
    "    global_loss.append(av_train_loss)\n",
    "\n",
    "    print(f\"Epoch --> {epoch}\\ntrain loss: {av_train_loss:.4f}\\nval loss: {av_val_loss:.4f}\\n\")"
   ]
  },
  {
   "cell_type": "code",
   "execution_count": 8,
   "metadata": {},
   "outputs": [
    {
     "name": "stdout",
     "output_type": "stream",
     "text": [
      "1.7438904353360225\n",
      "1.9989836786104285\n",
      "1.9749795768571936\n"
     ]
    }
   ],
   "source": [
    "def evaluate_model(dataset):\n",
    "    model.eval()\n",
    "    losses = []\n",
    "    for X, Y in dataset:\n",
    "        X, Y = X.cuda(), Y.cuda()\n",
    "\n",
    "        logits = model(X)\n",
    "        loss = F.cross_entropy(logits, Y)\n",
    "        losses.append(loss.item())\n",
    "    \n",
    "    print(sum(losses)/len(losses))\n",
    "\n",
    "\n",
    "evaluate_model(train_dl)\n",
    "evaluate_model(val_dl)\n",
    "evaluate_model(test_dl)\n",
    "\n",
    "        "
   ]
  },
  {
   "cell_type": "code",
   "execution_count": 9,
   "metadata": {},
   "outputs": [
    {
     "data": {
      "text/plain": [
       "Text(0, 0.5, 'Loss')"
      ]
     },
     "execution_count": 9,
     "metadata": {},
     "output_type": "execute_result"
    },
    {
     "data": {
      "image/png": "[encoded data removed]",
      "text/plain": [
       "<Figure size 640x480 with 1 Axes>"
      ]
     },
     "metadata": {},
     "output_type": "display_data"
    }
   ],
   "source": [
    "x = torch.arange(len(global_loss))\n",
    "\n",
    "plt.plot(x, global_loss)\n",
    "plt.xlabel('Epoch')\n",
    "plt.ylabel('Loss')"
   ]
  },
  {
   "cell_type": "code",
   "execution_count": 10,
   "metadata": {},
   "outputs": [],
   "source": [
    "@torch.no_grad()\n",
    "def generate_names(num=20):\n",
    "    for _ in range(20):\n",
    "        out = []\n",
    "        context = [0] * context_length # initialize with all ...\n",
    "        while True:\n",
    "            x = torch.tensor([[context]]).cuda()\n",
    "            logits = model(x)\n",
    "            probs = F.softmax(logits, dim=1)\n",
    "            ix = torch.multinomial(probs, num_samples=1).item()\n",
    "            context = context[1:] + [ix]\n",
    "            out.append(ix)\n",
    "            if ix == 0:\n",
    "                break\n",
    "        print(''.join(int_to_str[i] for i in out))"
   ]
  },
  {
   "cell_type": "code",
   "execution_count": 11,
   "metadata": {},
   "outputs": [
    {
     "name": "stdout",
     "output_type": "stream",
     "text": [
      "dimai.\n",
      "amiah.\n",
      "elliannah.\n",
      "rmetille.\n",
      "laantina.\n",
      "themari.\n",
      "emaree.\n",
      "abeah.\n",
      "kyrus.\n",
      "abriel.\n",
      "kanari.\n",
      "ishabha.\n",
      "ibus.\n",
      "jaymiya.\n",
      "aslan.\n",
      "raqabelle.\n",
      "angeluca.\n",
      "miloy.\n",
      "mariam.\n",
      "yachena.\n"
     ]
    }
   ],
   "source": [
    "model.eval()\n",
    "generate_names()\n",
    "\n",
    "torch.save(model.state_dict(), \"model.pt\")"
   ]
  },
  {
   "cell_type": "code",
   "execution_count": 14,
   "metadata": {},
   "outputs": [
    {
     "name": "stdout",
     "output_type": "stream",
     "text": [
      "Accuracy: 0.37915315157359514\n"
     ]
    }
   ],
   "source": [
    "def check_accuracy(model):\n",
    "    model.eval()\n",
    "    correct = 0\n",
    "    total = 0\n",
    "    for X, Y in test_dl:\n",
    "        X, Y = X.cuda(), Y.cuda()\n",
    "        logits = model(X)\n",
    "        preds = torch.argmax(logits, dim=1)\n",
    "        correct += (preds == Y).sum().item()\n",
    "        total += len(Y)\n",
    "    print(f\"Accuracy: {correct/total}\")\n",
    "    \n",
    "check_accuracy(model)"
   ]
  }
 ],
 "metadata": {
  "kernelspec": {
   "display_name": "dev",
   "language": "python",
   "name": "python3"
  },
  "language_info": {
   "codemirror_mode": {
    "name": "ipython",
    "version": 3
   },
   "file_extension": ".py",
   "mimetype": "text/x-python",
   "name": "python",
   "nbconvert_exporter": "python",
   "pygments_lexer": "ipython3",
   "version": "3.9.15"
  },
  "orig_nbformat": 4,
  "vscode": {
   "interpreter": {
    "hash": "c1f767b85a9ddfa74181083eaf2a0ca7790ab143097ab8c42db5e4f09d99ca78"
   }
  }
 },
 "nbformat": 4,
 "nbformat_minor": 2
}
