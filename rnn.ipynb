{
 "cells": [
  {
   "cell_type": "code",
   "execution_count": 238,
   "metadata": {},
   "outputs": [],
   "source": [
    "import torch \n",
    "import matplotlib.pyplot as plt\n",
    "from torch.utils.data import TensorDataset, DataLoader, random_split\n",
    "from torch import nn\n",
    "import torch.nn.functional as F\n",
    "from tqdm import tqdm\n",
    "import numpy as np\n"
   ]
  },
  {
   "cell_type": "code",
   "execution_count": 239,
   "metadata": {},
   "outputs": [],
   "source": [
    "with open(\"data/names.txt\") as f:\n",
    "    words = f.read().splitlines()\n",
    "\n",
    "chars = [\".\", \"@\"] + sorted(list(set(''.join(words))))\n",
    "vocab_size = len(chars) # 28 in this case\n",
    "\n",
    "str_to_idx = {s: i for i, s in enumerate(chars)}\n",
    "idx_to_str = {i: s for s, i in str_to_idx.items()}"
   ]
  },
  {
   "cell_type": "markdown",
   "metadata": {},
   "source": [
    "# Build the dataset"
   ]
  },
  {
   "cell_type": "code",
   "execution_count": 240,
   "metadata": {},
   "outputs": [
    {
     "name": "stdout",
     "output_type": "stream",
     "text": [
      "tensor([[ 0,  6, 14, 14,  2,  0,  1,  1,  1,  1,  1,  1,  1,  1,  1,  1,  1],\n",
      "        [ 0, 16, 13, 10, 23, 10,  2,  0,  1,  1,  1,  1,  1,  1,  1,  1,  1],\n",
      "        [ 0,  2, 23,  2,  0,  1,  1,  1,  1,  1,  1,  1,  1,  1,  1,  1,  1]])\n"
     ]
    }
   ],
   "source": [
    "from torch.nn.utils.rnn import pad_sequence\n",
    "\n",
    "dataset = []\n",
    "\n",
    "for word in words:\n",
    "    sequence = [0] + [str_to_idx[c] for c in word] + [0]\n",
    "    dataset.append(torch.tensor(sequence))\n",
    "\n",
    "dataset = pad_sequence(dataset, batch_first=True, padding_value=1)\n",
    "\n",
    "print(dataset[:3])\n",
    "\n",
    "dataloader = DataLoader(TensorDataset(dataset), batch_size=500, shuffle=True)"
   ]
  },
  {
   "cell_type": "markdown",
   "metadata": {},
   "source": [
    "## Define the model architecture\n",
    "\n",
    "In this case, we will be making an RNN from scratch"
   ]
  },
  {
   "cell_type": "code",
   "execution_count": 241,
   "metadata": {},
   "outputs": [],
   "source": [
    "class RNN(nn.Module):\n",
    "    def __init__(self, hidden_size=500, embedding_size=20):\n",
    "        super().__init__()\n",
    "        self.hidden_size = hidden_size\n",
    "        self.embedding_size = embedding_size\n",
    "        self.character_embeddings = nn.Embedding(vocab_size, embedding_size)\n",
    "        # self.i2h = nn.Linear(embedding_size+hidden_size, hidden_size)\n",
    "        self.i2h = nn.Sequential(\n",
    "            nn.Linear(embedding_size+hidden_size, hidden_size),\n",
    "            nn.LeakyReLU(),\n",
    "            nn.Linear(hidden_size, hidden_size),\n",
    "            nn.Tanh()\n",
    "        )\n",
    "        # self.i2o = nn.Linear(embedding_size+hidden_size, vocab_size)\n",
    "        self.i2o = nn.Sequential(\n",
    "            nn.Linear(embedding_size+hidden_size, hidden_size),\n",
    "            nn.LeakyReLU(),\n",
    "            nn.Linear(hidden_size, vocab_size),\n",
    "        )\n",
    "\n",
    "    def forward(self, input, hidden):\n",
    "        input = self.character_embeddings(input) \n",
    "        combined = torch.cat([input, hidden], 1)\n",
    "        # print(combined.shape)\n",
    "        hidden = self.i2h(combined)\n",
    "        output = self.i2o(combined)\n",
    "\n",
    "        return output, hidden\n",
    "\n",
    "    def initialize_hidden(self, batch_size=1):\n",
    "        return torch.zeros(batch_size, self.hidden_size)"
   ]
  },
  {
   "cell_type": "code",
   "execution_count": 242,
   "metadata": {},
   "outputs": [
    {
     "name": "stderr",
     "output_type": "stream",
     "text": [
      "100%|██████████| 65/65 [00:01<00:00, 47.02it/s]\n"
     ]
    },
    {
     "name": "stdout",
     "output_type": "stream",
     "text": [
      "Epoch 0 loss: 1.1138403007738515\n"
     ]
    },
    {
     "name": "stderr",
     "output_type": "stream",
     "text": [
      "100%|██████████| 65/65 [00:01<00:00, 50.78it/s]\n"
     ]
    },
    {
     "name": "stdout",
     "output_type": "stream",
     "text": [
      "Epoch 1 loss: 1.0073226393764114\n"
     ]
    },
    {
     "name": "stderr",
     "output_type": "stream",
     "text": [
      "100%|██████████| 65/65 [00:01<00:00, 48.96it/s]\n"
     ]
    },
    {
     "name": "stdout",
     "output_type": "stream",
     "text": [
      "Epoch 2 loss: 0.9727418524753242\n"
     ]
    },
    {
     "name": "stderr",
     "output_type": "stream",
     "text": [
      "100%|██████████| 65/65 [00:01<00:00, 48.20it/s]\n"
     ]
    },
    {
     "name": "stdout",
     "output_type": "stream",
     "text": [
      "Epoch 3 loss: 0.9487377819781537\n"
     ]
    },
    {
     "name": "stderr",
     "output_type": "stream",
     "text": [
      "100%|██████████| 65/65 [00:01<00:00, 48.87it/s]\n"
     ]
    },
    {
     "name": "stdout",
     "output_type": "stream",
     "text": [
      "Epoch 4 loss: 0.9296817814113376\n"
     ]
    },
    {
     "name": "stderr",
     "output_type": "stream",
     "text": [
      "100%|██████████| 65/65 [00:01<00:00, 48.63it/s]\n"
     ]
    },
    {
     "name": "stdout",
     "output_type": "stream",
     "text": [
      "Epoch 5 loss: 0.9144846200227181\n"
     ]
    },
    {
     "name": "stderr",
     "output_type": "stream",
     "text": [
      "100%|██████████| 65/65 [00:01<00:00, 56.77it/s]\n"
     ]
    },
    {
     "name": "stdout",
     "output_type": "stream",
     "text": [
      "Epoch 6 loss: 0.9000249926231404\n"
     ]
    },
    {
     "name": "stderr",
     "output_type": "stream",
     "text": [
      "100%|██████████| 65/65 [00:01<00:00, 58.76it/s]\n"
     ]
    },
    {
     "name": "stdout",
     "output_type": "stream",
     "text": [
      "Epoch 7 loss: 0.8890579865426729\n"
     ]
    },
    {
     "name": "stderr",
     "output_type": "stream",
     "text": [
      "100%|██████████| 65/65 [00:01<00:00, 57.73it/s]\n"
     ]
    },
    {
     "name": "stdout",
     "output_type": "stream",
     "text": [
      "Epoch 8 loss: 0.8770256451729017\n"
     ]
    },
    {
     "name": "stderr",
     "output_type": "stream",
     "text": [
      "100%|██████████| 65/65 [00:01<00:00, 57.75it/s]\n"
     ]
    },
    {
     "name": "stdout",
     "output_type": "stream",
     "text": [
      "Epoch 9 loss: 0.8675789488536773\n"
     ]
    },
    {
     "name": "stderr",
     "output_type": "stream",
     "text": [
      "100%|██████████| 65/65 [00:01<00:00, 56.75it/s]\n"
     ]
    },
    {
     "name": "stdout",
     "output_type": "stream",
     "text": [
      "Epoch 10 loss: 0.8586517209993376\n"
     ]
    },
    {
     "name": "stderr",
     "output_type": "stream",
     "text": [
      "100%|██████████| 65/65 [00:01<00:00, 60.29it/s]\n"
     ]
    },
    {
     "name": "stdout",
     "output_type": "stream",
     "text": [
      "Epoch 11 loss: 0.8511194804087107\n"
     ]
    },
    {
     "name": "stderr",
     "output_type": "stream",
     "text": [
      "100%|██████████| 65/65 [00:01<00:00, 59.23it/s]\n"
     ]
    },
    {
     "name": "stdout",
     "output_type": "stream",
     "text": [
      "Epoch 12 loss: 0.8436176445096245\n"
     ]
    },
    {
     "name": "stderr",
     "output_type": "stream",
     "text": [
      "100%|██████████| 65/65 [00:01<00:00, 57.05it/s]\n"
     ]
    },
    {
     "name": "stdout",
     "output_type": "stream",
     "text": [
      "Epoch 13 loss: 0.837214591535377\n"
     ]
    },
    {
     "name": "stderr",
     "output_type": "stream",
     "text": [
      "100%|██████████| 65/65 [00:01<00:00, 54.78it/s]\n"
     ]
    },
    {
     "name": "stdout",
     "output_type": "stream",
     "text": [
      "Epoch 14 loss: 0.8299169315293675\n"
     ]
    },
    {
     "name": "stderr",
     "output_type": "stream",
     "text": [
      "100%|██████████| 65/65 [00:01<00:00, 59.85it/s]\n"
     ]
    },
    {
     "name": "stdout",
     "output_type": "stream",
     "text": [
      "Epoch 15 loss: 0.8240024350608701\n"
     ]
    },
    {
     "name": "stderr",
     "output_type": "stream",
     "text": [
      "100%|██████████| 65/65 [00:01<00:00, 60.44it/s]\n"
     ]
    },
    {
     "name": "stdout",
     "output_type": "stream",
     "text": [
      "Epoch 16 loss: 0.816561248964252\n"
     ]
    },
    {
     "name": "stderr",
     "output_type": "stream",
     "text": [
      "100%|██████████| 65/65 [00:01<00:00, 58.80it/s]\n"
     ]
    },
    {
     "name": "stdout",
     "output_type": "stream",
     "text": [
      "Epoch 17 loss: 0.8112552887034028\n"
     ]
    },
    {
     "name": "stderr",
     "output_type": "stream",
     "text": [
      "100%|██████████| 65/65 [00:01<00:00, 58.62it/s]\n"
     ]
    },
    {
     "name": "stdout",
     "output_type": "stream",
     "text": [
      "Epoch 18 loss: 0.8051690009270515\n"
     ]
    },
    {
     "name": "stderr",
     "output_type": "stream",
     "text": [
      "100%|██████████| 65/65 [00:01<00:00, 57.51it/s]"
     ]
    },
    {
     "name": "stdout",
     "output_type": "stream",
     "text": [
      "Epoch 19 loss: 0.8009239397738085\n"
     ]
    },
    {
     "name": "stderr",
     "output_type": "stream",
     "text": [
      "\n"
     ]
    }
   ],
   "source": [
    "model = RNN().cuda()\n",
    "optim = torch.optim.Adam(model.parameters(), lr=0.001)\n",
    "criterion = nn.CrossEntropyLoss(ignore_index=1, reduction='sum') # Ignore the padding character\n",
    "\n",
    "for epoch in range(20):\n",
    "    losses = []\n",
    "    counts = 0\n",
    "    with tqdm(dataloader) as dataloader:\n",
    "        for batch in dataloader:\n",
    "            batch = batch[0].cuda()\n",
    "\n",
    "            hidden = model.initialize_hidden(len(batch)).cuda()\n",
    "            # Initialise the hidden state\n",
    "\n",
    "            loss = 0\n",
    "            counts = 0\n",
    "\n",
    "            for i in range(batch.shape[1]-1):\n",
    "                inpt = batch[:, i]\n",
    "                target = batch[:, i+1]\n",
    "                # The input character and the target character (next character)\n",
    "                # for each batch\n",
    "                # We are trying to predict the next character\n",
    "\n",
    "                output, hidden = model(inpt, hidden) # Pass the input and the hidden state\n",
    "                # This gives us a new hidden state and an output\n",
    "                loss += criterion(output, target)\n",
    "                counts += 1\n",
    "\n",
    "\n",
    "            losses.append(loss.item()/(counts*len(batch)))\n",
    "            optim.zero_grad()\n",
    "            loss.backward()\n",
    "            optim.step()\n",
    "            \n",
    "    # print(losses)\n",
    "    print(f\"Epoch {epoch} loss: {np.mean(losses)}\")"
   ]
  },
  {
   "cell_type": "code",
   "execution_count": 243,
   "metadata": {},
   "outputs": [
    {
     "name": "stdout",
     "output_type": "stream",
     "text": [
      "NEW:   bros.\n",
      "NEW:   mohendry.\n",
      "FOUND: terrius.\n",
      "NEW:   rays.\n",
      "NEW:   myanee.\n",
      "FOUND: canan.\n",
      "NEW:   melca.\n",
      "NEW:   rabin.\n",
      "NEW:   jhaden.\n",
      "NEW:   xovann.\n",
      "NEW:   glain.\n",
      "NEW:   zadric.\n",
      "NEW:   lariana.\n",
      "NEW:   jenevicto.\n",
      "FOUND: kailani.\n",
      "NEW:   yasari.\n",
      "NEW:   deara.\n",
      "FOUND: siren.\n",
      "NEW:   calemay.\n",
      "NEW:   elyzia.\n"
     ]
    }
   ],
   "source": [
    "def sample_names():\n",
    "    model.cpu()\n",
    "    model.eval()\n",
    "    for i in range(20):\n",
    "        hidden = model.initialize_hidden()\n",
    "        input = torch.tensor([0])\n",
    "        name = \"\"\n",
    "        for i in range(20):\n",
    "            output, hidden = model(input, hidden)\n",
    "            input = torch.multinomial(F.softmax(output, dim=1), 1)\n",
    "            name += idx_to_str[input.item()]\n",
    "            if input.item() == 0:\n",
    "                break\n",
    "            input = torch.tensor([input])\n",
    "        if name.strip('.') in words:\n",
    "            print(\"FOUND:\", name)\n",
    "            continue\n",
    "        print(\"NEW:  \",name)\n",
    "\n",
    "sample_names()"
   ]
  },
  {
   "cell_type": "code",
   "execution_count": 244,
   "metadata": {},
   "outputs": [
    {
     "name": "stderr",
     "output_type": "stream",
     "text": [
      "100%|██████████| 32033/32033 [00:59<00:00, 536.48it/s]"
     ]
    },
    {
     "name": "stdout",
     "output_type": "stream",
     "text": [
      "Accuracy: 0.4321531057357788\n",
      "Loss: 1.8199594114819886\n"
     ]
    },
    {
     "name": "stderr",
     "output_type": "stream",
     "text": [
      "\n"
     ]
    }
   ],
   "source": [
    "@torch.no_grad()\n",
    "def evaluate_model(model):\n",
    "    model.eval()\n",
    "    correct = 0\n",
    "    total = 0\n",
    "    losses = []\n",
    "\n",
    "    with tqdm(total=len(dataset)) as pbar:\n",
    "        for name in dataset:\n",
    "            hidden = model.initialize_hidden()\n",
    "            loss = 0\n",
    "            counts = 0\n",
    "            for i in range(len(name)-1):\n",
    "                if name[i] == 0 and i > 0:\n",
    "                    break\n",
    "                input = torch.tensor([name[i]])\n",
    "                target = torch.tensor([name[i+1]])\n",
    "                output, hidden = model(input, hidden)\n",
    "                loss += F.cross_entropy(output, target)\n",
    "                pred = output.argmax(dim=1)\n",
    "                correct += (pred == target).sum()\n",
    "                counts += 1\n",
    "                total += 1\n",
    "            losses.append(loss.item()/counts)\n",
    "            pbar.update(1)\n",
    "    print(f\"Accuracy: {correct/total}\")\n",
    "    print(f\"Loss: {np.mean(losses)}\")\n",
    "\n",
    "\n",
    "\n",
    "evaluate_model(model)"
   ]
  },
  {
   "cell_type": "markdown",
   "metadata": {},
   "source": []
  }
 ],
 "metadata": {
  "kernelspec": {
   "display_name": "dev",
   "language": "python",
   "name": "python3"
  },
  "language_info": {
   "codemirror_mode": {
    "name": "ipython",
    "version": 3
   },
   "file_extension": ".py",
   "mimetype": "text/x-python",
   "name": "python",
   "nbconvert_exporter": "python",
   "pygments_lexer": "ipython3",
   "version": "3.9.15"
  },
  "orig_nbformat": 4,
  "vscode": {
   "interpreter": {
    "hash": "c1f767b85a9ddfa74181083eaf2a0ca7790ab143097ab8c42db5e4f09d99ca78"
   }
  }
 },
 "nbformat": 4,
 "nbformat_minor": 2
}
