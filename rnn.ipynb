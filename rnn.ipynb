{
 "cells": [
  {
   "cell_type": "code",
   "execution_count": 213,
   "metadata": {},
   "outputs": [],
   "source": [
    "import torch \n",
    "import matplotlib.pyplot as plt\n",
    "from torch.utils.data import TensorDataset, DataLoader, random_split\n",
    "from torch import nn\n",
    "import torch.nn.functional as F\n",
    "from tqdm import tqdm\n",
    "import numpy as np\n"
   ]
  },
  {
   "cell_type": "code",
   "execution_count": 214,
   "metadata": {},
   "outputs": [],
   "source": [
    "with open(\"data/names.txt\") as f:\n",
    "    words = f.read().splitlines()\n",
    "\n",
    "chars = [\".\", \"@\"] + sorted(list(set(''.join(words))))\n",
    "vocab_size = len(chars) # 28 in this case\n",
    "\n",
    "str_to_idx = {s: i for i, s in enumerate(chars)}\n",
    "idx_to_str = {i: s for s, i in str_to_idx.items()}"
   ]
  },
  {
   "cell_type": "markdown",
   "metadata": {},
   "source": [
    "# Build the dataset"
   ]
  },
  {
   "cell_type": "code",
   "execution_count": 215,
   "metadata": {},
   "outputs": [
    {
     "name": "stdout",
     "output_type": "stream",
     "text": [
      "tensor([[ 0,  6, 14, 14,  2,  0,  1,  1,  1,  1,  1,  1,  1,  1,  1,  1,  1],\n",
      "        [ 0, 16, 13, 10, 23, 10,  2,  0,  1,  1,  1,  1,  1,  1,  1,  1,  1],\n",
      "        [ 0,  2, 23,  2,  0,  1,  1,  1,  1,  1,  1,  1,  1,  1,  1,  1,  1]])\n"
     ]
    }
   ],
   "source": [
    "from torch.nn.utils.rnn import pad_sequence\n",
    "\n",
    "dataset = []\n",
    "\n",
    "for word in words:\n",
    "    sequence = [0] + [str_to_idx[c] for c in word] + [0]\n",
    "    dataset.append(torch.tensor(sequence))\n",
    "\n",
    "dataset = pad_sequence(dataset, batch_first=True, padding_value=1)\n",
    "\n",
    "print(dataset[:3])\n",
    "\n",
    "dataloader = DataLoader(TensorDataset(dataset), batch_size=500, shuffle=True)"
   ]
  },
  {
   "cell_type": "code",
   "execution_count": 216,
   "metadata": {},
   "outputs": [],
   "source": [
    "class RNN(nn.Module):\n",
    "    def __init__(self, hidden_size=500, embedding_size=20):\n",
    "        super().__init__()\n",
    "        self.hidden_size = hidden_size\n",
    "        self.embedding_size = embedding_size\n",
    "        self.character_embeddings = nn.Embedding(vocab_size, embedding_size)\n",
    "        # self.i2h = nn.Linear(embedding_size+hidden_size, hidden_size)\n",
    "        self.i2h = nn.Sequential(\n",
    "            nn.Linear(embedding_size+hidden_size, hidden_size),\n",
    "            nn.LeakyReLU(),\n",
    "            nn.Linear(hidden_size, hidden_size),\n",
    "            nn.Tanh()\n",
    "        )\n",
    "        # self.i2o = nn.Linear(embedding_size+hidden_size, vocab_size)\n",
    "        self.i2o = nn.Sequential(\n",
    "            nn.Linear(embedding_size+hidden_size, hidden_size),\n",
    "            nn.LeakyReLU(),\n",
    "            nn.Linear(hidden_size, vocab_size),\n",
    "        )\n",
    "\n",
    "    def forward(self, input, hidden):\n",
    "        input = self.character_embeddings(input)\n",
    "        combined = torch.cat([input, hidden], 1)\n",
    "        # print(combined.shape)\n",
    "        hidden = self.i2h(combined)\n",
    "        output = self.i2o(combined)\n",
    "\n",
    "        return output, hidden\n",
    "\n",
    "    def initialize_hidden(self, batch_size=1):\n",
    "        return torch.zeros(batch_size, self.hidden_size)"
   ]
  },
  {
   "cell_type": "code",
   "execution_count": 217,
   "metadata": {},
   "outputs": [
    {
     "name": "stderr",
     "output_type": "stream",
     "text": [
      "100%|██████████| 65/65 [00:01<00:00, 45.77it/s]\n"
     ]
    },
    {
     "name": "stdout",
     "output_type": "stream",
     "text": [
      "Epoch 0 loss: 1.1197070018990614\n"
     ]
    },
    {
     "name": "stderr",
     "output_type": "stream",
     "text": [
      "100%|██████████| 65/65 [00:01<00:00, 58.54it/s]\n"
     ]
    },
    {
     "name": "stdout",
     "output_type": "stream",
     "text": [
      "Epoch 1 loss: 1.0125535993242594\n"
     ]
    },
    {
     "name": "stderr",
     "output_type": "stream",
     "text": [
      "100%|██████████| 65/65 [00:01<00:00, 57.06it/s]\n"
     ]
    },
    {
     "name": "stdout",
     "output_type": "stream",
     "text": [
      "Epoch 2 loss: 0.9755790114182692\n"
     ]
    },
    {
     "name": "stderr",
     "output_type": "stream",
     "text": [
      "100%|██████████| 65/65 [00:01<00:00, 58.78it/s]\n"
     ]
    },
    {
     "name": "stdout",
     "output_type": "stream",
     "text": [
      "Epoch 3 loss: 0.9512321528650386\n"
     ]
    },
    {
     "name": "stderr",
     "output_type": "stream",
     "text": [
      "100%|██████████| 65/65 [00:01<00:00, 58.79it/s]\n"
     ]
    },
    {
     "name": "stdout",
     "output_type": "stream",
     "text": [
      "Epoch 4 loss: 0.9321398913332354\n"
     ]
    },
    {
     "name": "stderr",
     "output_type": "stream",
     "text": [
      "100%|██████████| 65/65 [00:01<00:00, 56.68it/s]\n"
     ]
    },
    {
     "name": "stdout",
     "output_type": "stream",
     "text": [
      "Epoch 5 loss: 0.9175531264369581\n"
     ]
    },
    {
     "name": "stderr",
     "output_type": "stream",
     "text": [
      "100%|██████████| 65/65 [00:01<00:00, 58.14it/s]\n"
     ]
    },
    {
     "name": "stdout",
     "output_type": "stream",
     "text": [
      "Epoch 6 loss: 0.9039839262635557\n"
     ]
    },
    {
     "name": "stderr",
     "output_type": "stream",
     "text": [
      "100%|██████████| 65/65 [00:01<00:00, 55.41it/s]\n"
     ]
    },
    {
     "name": "stdout",
     "output_type": "stream",
     "text": [
      "Epoch 7 loss: 0.892285005461864\n"
     ]
    },
    {
     "name": "stderr",
     "output_type": "stream",
     "text": [
      "100%|██████████| 65/65 [00:01<00:00, 59.62it/s]\n"
     ]
    },
    {
     "name": "stdout",
     "output_type": "stream",
     "text": [
      "Epoch 8 loss: 0.8833154886099008\n"
     ]
    },
    {
     "name": "stderr",
     "output_type": "stream",
     "text": [
      "100%|██████████| 65/65 [00:01<00:00, 56.01it/s]\n"
     ]
    },
    {
     "name": "stdout",
     "output_type": "stream",
     "text": [
      "Epoch 9 loss: 0.8745594239206025\n"
     ]
    },
    {
     "name": "stderr",
     "output_type": "stream",
     "text": [
      "100%|██████████| 65/65 [00:01<00:00, 57.24it/s]\n"
     ]
    },
    {
     "name": "stdout",
     "output_type": "stream",
     "text": [
      "Epoch 10 loss: 0.8647306690349446\n"
     ]
    },
    {
     "name": "stderr",
     "output_type": "stream",
     "text": [
      "100%|██████████| 65/65 [00:01<00:00, 56.23it/s]\n"
     ]
    },
    {
     "name": "stdout",
     "output_type": "stream",
     "text": [
      "Epoch 11 loss: 0.8567522334598996\n"
     ]
    },
    {
     "name": "stderr",
     "output_type": "stream",
     "text": [
      "100%|██████████| 65/65 [00:01<00:00, 58.46it/s]\n"
     ]
    },
    {
     "name": "stdout",
     "output_type": "stream",
     "text": [
      "Epoch 12 loss: 0.8489761477454837\n"
     ]
    },
    {
     "name": "stderr",
     "output_type": "stream",
     "text": [
      "100%|██████████| 65/65 [00:01<00:00, 57.72it/s]\n"
     ]
    },
    {
     "name": "stdout",
     "output_type": "stream",
     "text": [
      "Epoch 13 loss: 0.8409239208159192\n"
     ]
    },
    {
     "name": "stderr",
     "output_type": "stream",
     "text": [
      "100%|██████████| 65/65 [00:01<00:00, 56.34it/s]\n"
     ]
    },
    {
     "name": "stdout",
     "output_type": "stream",
     "text": [
      "Epoch 14 loss: 0.8340530972069515\n"
     ]
    },
    {
     "name": "stderr",
     "output_type": "stream",
     "text": [
      "100%|██████████| 65/65 [00:01<00:00, 56.24it/s]\n"
     ]
    },
    {
     "name": "stdout",
     "output_type": "stream",
     "text": [
      "Epoch 15 loss: 0.8291122880273211\n"
     ]
    },
    {
     "name": "stderr",
     "output_type": "stream",
     "text": [
      "100%|██████████| 65/65 [00:01<00:00, 54.57it/s]\n"
     ]
    },
    {
     "name": "stdout",
     "output_type": "stream",
     "text": [
      "Epoch 16 loss: 0.8220381142285043\n"
     ]
    },
    {
     "name": "stderr",
     "output_type": "stream",
     "text": [
      "100%|██████████| 65/65 [00:01<00:00, 55.78it/s]\n"
     ]
    },
    {
     "name": "stdout",
     "output_type": "stream",
     "text": [
      "Epoch 17 loss: 0.8152520880141181\n"
     ]
    },
    {
     "name": "stderr",
     "output_type": "stream",
     "text": [
      "100%|██████████| 65/65 [00:01<00:00, 55.67it/s]\n"
     ]
    },
    {
     "name": "stdout",
     "output_type": "stream",
     "text": [
      "Epoch 18 loss: 0.8094305247842571\n"
     ]
    },
    {
     "name": "stderr",
     "output_type": "stream",
     "text": [
      "100%|██████████| 65/65 [00:01<00:00, 53.12it/s]"
     ]
    },
    {
     "name": "stdout",
     "output_type": "stream",
     "text": [
      "Epoch 19 loss: 0.8049684979134228\n"
     ]
    },
    {
     "name": "stderr",
     "output_type": "stream",
     "text": [
      "\n"
     ]
    }
   ],
   "source": [
    "model = RNN().cuda()\n",
    "optim = torch.optim.Adam(model.parameters(), lr=0.001)\n",
    "criterion = nn.CrossEntropyLoss(ignore_index=1, reduction='sum')\n",
    "\n",
    "for epoch in range(20):\n",
    "    losses = []\n",
    "    counts = 0\n",
    "    with tqdm(dataloader) as dataloader:\n",
    "        for batch in dataloader:\n",
    "            batch = batch[0].cuda()\n",
    "\n",
    "            hidden = model.initialize_hidden(len(batch)).cuda()\n",
    "            \n",
    "\n",
    "            loss = 0\n",
    "            counts = 0\n",
    "\n",
    "            for i in range(batch.shape[1]-1):\n",
    "                inpt = batch[:, i]\n",
    "                target = batch[:, i+1]\n",
    "                # print(target)\n",
    "\n",
    "                output, hidden = model(inpt, hidden)\n",
    "                loss += criterion(output, target)\n",
    "                counts += 1\n",
    "\n",
    "            # loss = torch.mean(loss)\n",
    "\n",
    "            losses.append(loss.item()/(counts*len(batch)))\n",
    "\n",
    "            optim.zero_grad()\n",
    "            loss.backward()\n",
    "            optim.step()\n",
    "            \n",
    "    # print(losses)\n",
    "    print(f\"Epoch {epoch} loss: {np.mean(losses)}\")"
   ]
  },
  {
   "cell_type": "code",
   "execution_count": 230,
   "metadata": {},
   "outputs": [
    {
     "name": "stdout",
     "output_type": "stream",
     "text": [
      "NEW:   esvie.\n",
      "FOUND: omara.\n",
      "NEW:   jaroli.\n",
      "NEW:   nichail.\n",
      "NEW:   ellyna.\n",
      "FOUND: emiliani.\n",
      "FOUND: anthony.\n",
      "FOUND: elliani.\n",
      "NEW:   kombertte.\n",
      "NEW:   faaouf.\n",
      "NEW:   samrish.\n",
      "NEW:   stommi.\n",
      "FOUND: jade.\n",
      "NEW:   jeajo.\n",
      "NEW:   aishaun.\n",
      "NEW:   mucki.\n",
      "NEW:   emmeron.\n",
      "FOUND: armanie.\n",
      "FOUND: khori.\n",
      "NEW:   ronelle.\n"
     ]
    }
   ],
   "source": [
    "def sample_names():\n",
    "    model.cpu()\n",
    "    model.eval()\n",
    "    for i in range(20):\n",
    "        hidden = model.initialize_hidden()\n",
    "        input = torch.tensor([0])\n",
    "        name = \"\"\n",
    "        for i in range(20):\n",
    "            output, hidden = model(input, hidden)\n",
    "            input = torch.multinomial(F.softmax(output, dim=1), 1)\n",
    "            name += idx_to_str[input.item()]\n",
    "            if input.item() == 0:\n",
    "                break\n",
    "            input = torch.tensor([input])\n",
    "        if name.strip('.') in words:\n",
    "            print(\"FOUND:\", name)\n",
    "            continue\n",
    "        print(\"NEW:  \",name)\n",
    "\n",
    "sample_names()"
   ]
  },
  {
   "cell_type": "code",
   "execution_count": 220,
   "metadata": {},
   "outputs": [
    {
     "name": "stderr",
     "output_type": "stream",
     "text": [
      "100%|██████████| 32033/32033 [00:58<00:00, 543.34it/s]"
     ]
    },
    {
     "name": "stdout",
     "output_type": "stream",
     "text": [
      "Accuracy: 0.428550124168396\n",
      "Loss: 1.8309666892158272\n"
     ]
    },
    {
     "name": "stderr",
     "output_type": "stream",
     "text": [
      "\n"
     ]
    }
   ],
   "source": [
    "@torch.no_grad()\n",
    "def evaluate_model(model):\n",
    "    model.eval()\n",
    "    correct = 0\n",
    "    total = 0\n",
    "    losses = []\n",
    "\n",
    "    with tqdm(total=len(dataset)) as pbar:\n",
    "        for name in dataset:\n",
    "            hidden = model.initialize_hidden()\n",
    "            loss = 0\n",
    "            counts = 0\n",
    "            for i in range(len(name)-1):\n",
    "                if name[i] == 0 and i > 0:\n",
    "                    break\n",
    "                input = torch.tensor([name[i]])\n",
    "                target = torch.tensor([name[i+1]])\n",
    "                output, hidden = model(input, hidden)\n",
    "                loss += F.cross_entropy(output, target)\n",
    "                pred = output.argmax(dim=1)\n",
    "                correct += (pred == target).sum()\n",
    "                counts += 1\n",
    "                total += 1\n",
    "            losses.append(loss.item()/counts)\n",
    "            pbar.update(1)\n",
    "    print(f\"Accuracy: {correct/total}\")\n",
    "    print(f\"Loss: {np.mean(losses)}\")\n",
    "\n",
    "\n",
    "\n",
    "evaluate_model(model)"
   ]
  },
  {
   "cell_type": "markdown",
   "metadata": {},
   "source": []
  }
 ],
 "metadata": {
  "kernelspec": {
   "display_name": "dev",
   "language": "python",
   "name": "python3"
  },
  "language_info": {
   "codemirror_mode": {
    "name": "ipython",
    "version": 3
   },
   "file_extension": ".py",
   "mimetype": "text/x-python",
   "name": "python",
   "nbconvert_exporter": "python",
   "pygments_lexer": "ipython3",
   "version": "3.9.15"
  },
  "orig_nbformat": 4,
  "vscode": {
   "interpreter": {
    "hash": "c1f767b85a9ddfa74181083eaf2a0ca7790ab143097ab8c42db5e4f09d99ca78"
   }
  }
 },
 "nbformat": 4,
 "nbformat_minor": 2
}
